{
  "nbformat": 4,
  "nbformat_minor": 0,
  "metadata": {
    "colab": {
      "name": "Desafio Tecnico.ipynb",
      "provenance": [],
      "authorship_tag": "ABX9TyMktU1WKw0gGfq/qsgvLdM1",
      "include_colab_link": true
    },
    "kernelspec": {
      "name": "python3",
      "display_name": "Python 3"
    },
    "language_info": {
      "name": "python"
    }
  },
  "cells": [
    {
      "cell_type": "markdown",
      "metadata": {
        "id": "view-in-github",
        "colab_type": "text"
      },
      "source": [
        "<a href=\"https://colab.research.google.com/github/leoferro/Desafio-Tecnico/blob/main/Desafio_Tecnico.ipynb\" target=\"_parent\"><img src=\"https://colab.research.google.com/assets/colab-badge.svg\" alt=\"Open In Colab\"/></a>"
      ]
    },
    {
      "cell_type": "markdown",
      "source": [
        "#Desafio 1"
      ],
      "metadata": {
        "id": "6AbhVnpW1QB2"
      }
    },
    {
      "cell_type": "code",
      "execution_count": 1,
      "metadata": {
        "id": "RW6S463v00-X"
      },
      "outputs": [],
      "source": [
        "from random import random, seed\n",
        "import pandas as pd"
      ]
    },
    {
      "cell_type": "markdown",
      "source": [
        "##Gerar colunas"
      ],
      "metadata": {
        "id": "TwkEgZ0R6sO_"
      }
    },
    {
      "cell_type": "code",
      "source": [
        "frutas = ['abacate', 'abacaxi', 'banana', 'goiaba', 'laranja', 'manga', 'melancia', 'pêssego', 'tangerina', 'uva']\n",
        "\n",
        "\n",
        "horarios = pd.date_range(\n",
        "    start = '2022-06-01 12:00',\n",
        "    end = '2022-06-15 23:00',\n",
        "    freq = '20min'\n",
        ")\n",
        "\n",
        "\n",
        "seed(23)\n",
        "frutas_aleatorias = [\n",
        "                     frutas[int(random()*len(frutas))] for _ in range(horarios.shape[0])\n",
        "                     ]"
      ],
      "metadata": {
        "id": "2ypNRpSS1XgK"
      },
      "execution_count": 2,
      "outputs": []
    },
    {
      "cell_type": "markdown",
      "source": [
        "##Gerar Data Frame"
      ],
      "metadata": {
        "id": "rqZ94VjW6xkD"
      }
    },
    {
      "cell_type": "code",
      "source": [
        "df_dieta = pd.DataFrame({\n",
        "    'Data_horário':horarios,\n",
        "    'Fruta':frutas_aleatorias\n",
        "})\n",
        "\n",
        "df_dieta.to_csv(\n",
        "    'desafio1.csv',\n",
        "    encoding='utf-8',\n",
        "    index=False\n",
        "    )\n",
        "\n",
        "df_dieta.head()"
      ],
      "metadata": {
        "colab": {
          "base_uri": "https://localhost:8080/",
          "height": 206
        },
        "id": "vyOcSNzU3GiJ",
        "outputId": "c6977831-c9e6-4f8b-ee3c-21375b1b37e0"
      },
      "execution_count": 3,
      "outputs": [
        {
          "output_type": "execute_result",
          "data": {
            "text/plain": [
              "         Data_horário      Fruta\n",
              "0 2022-06-01 12:00:00        uva\n",
              "1 2022-06-01 12:20:00        uva\n",
              "2 2022-06-01 12:40:00  tangerina\n",
              "3 2022-06-01 13:00:00    abacate\n",
              "4 2022-06-01 13:20:00      manga"
            ],
            "text/html": [
              "\n",
              "  <div id=\"df-1aa4145b-72f5-4834-a2b3-5e0cb6e477d5\">\n",
              "    <div class=\"colab-df-container\">\n",
              "      <div>\n",
              "<style scoped>\n",
              "    .dataframe tbody tr th:only-of-type {\n",
              "        vertical-align: middle;\n",
              "    }\n",
              "\n",
              "    .dataframe tbody tr th {\n",
              "        vertical-align: top;\n",
              "    }\n",
              "\n",
              "    .dataframe thead th {\n",
              "        text-align: right;\n",
              "    }\n",
              "</style>\n",
              "<table border=\"1\" class=\"dataframe\">\n",
              "  <thead>\n",
              "    <tr style=\"text-align: right;\">\n",
              "      <th></th>\n",
              "      <th>Data_horário</th>\n",
              "      <th>Fruta</th>\n",
              "    </tr>\n",
              "  </thead>\n",
              "  <tbody>\n",
              "    <tr>\n",
              "      <th>0</th>\n",
              "      <td>2022-06-01 12:00:00</td>\n",
              "      <td>uva</td>\n",
              "    </tr>\n",
              "    <tr>\n",
              "      <th>1</th>\n",
              "      <td>2022-06-01 12:20:00</td>\n",
              "      <td>uva</td>\n",
              "    </tr>\n",
              "    <tr>\n",
              "      <th>2</th>\n",
              "      <td>2022-06-01 12:40:00</td>\n",
              "      <td>tangerina</td>\n",
              "    </tr>\n",
              "    <tr>\n",
              "      <th>3</th>\n",
              "      <td>2022-06-01 13:00:00</td>\n",
              "      <td>abacate</td>\n",
              "    </tr>\n",
              "    <tr>\n",
              "      <th>4</th>\n",
              "      <td>2022-06-01 13:20:00</td>\n",
              "      <td>manga</td>\n",
              "    </tr>\n",
              "  </tbody>\n",
              "</table>\n",
              "</div>\n",
              "      <button class=\"colab-df-convert\" onclick=\"convertToInteractive('df-1aa4145b-72f5-4834-a2b3-5e0cb6e477d5')\"\n",
              "              title=\"Convert this dataframe to an interactive table.\"\n",
              "              style=\"display:none;\">\n",
              "        \n",
              "  <svg xmlns=\"http://www.w3.org/2000/svg\" height=\"24px\"viewBox=\"0 0 24 24\"\n",
              "       width=\"24px\">\n",
              "    <path d=\"M0 0h24v24H0V0z\" fill=\"none\"/>\n",
              "    <path d=\"M18.56 5.44l.94 2.06.94-2.06 2.06-.94-2.06-.94-.94-2.06-.94 2.06-2.06.94zm-11 1L8.5 8.5l.94-2.06 2.06-.94-2.06-.94L8.5 2.5l-.94 2.06-2.06.94zm10 10l.94 2.06.94-2.06 2.06-.94-2.06-.94-.94-2.06-.94 2.06-2.06.94z\"/><path d=\"M17.41 7.96l-1.37-1.37c-.4-.4-.92-.59-1.43-.59-.52 0-1.04.2-1.43.59L10.3 9.45l-7.72 7.72c-.78.78-.78 2.05 0 2.83L4 21.41c.39.39.9.59 1.41.59.51 0 1.02-.2 1.41-.59l7.78-7.78 2.81-2.81c.8-.78.8-2.07 0-2.86zM5.41 20L4 18.59l7.72-7.72 1.47 1.35L5.41 20z\"/>\n",
              "  </svg>\n",
              "      </button>\n",
              "      \n",
              "  <style>\n",
              "    .colab-df-container {\n",
              "      display:flex;\n",
              "      flex-wrap:wrap;\n",
              "      gap: 12px;\n",
              "    }\n",
              "\n",
              "    .colab-df-convert {\n",
              "      background-color: #E8F0FE;\n",
              "      border: none;\n",
              "      border-radius: 50%;\n",
              "      cursor: pointer;\n",
              "      display: none;\n",
              "      fill: #1967D2;\n",
              "      height: 32px;\n",
              "      padding: 0 0 0 0;\n",
              "      width: 32px;\n",
              "    }\n",
              "\n",
              "    .colab-df-convert:hover {\n",
              "      background-color: #E2EBFA;\n",
              "      box-shadow: 0px 1px 2px rgba(60, 64, 67, 0.3), 0px 1px 3px 1px rgba(60, 64, 67, 0.15);\n",
              "      fill: #174EA6;\n",
              "    }\n",
              "\n",
              "    [theme=dark] .colab-df-convert {\n",
              "      background-color: #3B4455;\n",
              "      fill: #D2E3FC;\n",
              "    }\n",
              "\n",
              "    [theme=dark] .colab-df-convert:hover {\n",
              "      background-color: #434B5C;\n",
              "      box-shadow: 0px 1px 3px 1px rgba(0, 0, 0, 0.15);\n",
              "      filter: drop-shadow(0px 1px 2px rgba(0, 0, 0, 0.3));\n",
              "      fill: #FFFFFF;\n",
              "    }\n",
              "  </style>\n",
              "\n",
              "      <script>\n",
              "        const buttonEl =\n",
              "          document.querySelector('#df-1aa4145b-72f5-4834-a2b3-5e0cb6e477d5 button.colab-df-convert');\n",
              "        buttonEl.style.display =\n",
              "          google.colab.kernel.accessAllowed ? 'block' : 'none';\n",
              "\n",
              "        async function convertToInteractive(key) {\n",
              "          const element = document.querySelector('#df-1aa4145b-72f5-4834-a2b3-5e0cb6e477d5');\n",
              "          const dataTable =\n",
              "            await google.colab.kernel.invokeFunction('convertToInteractive',\n",
              "                                                     [key], {});\n",
              "          if (!dataTable) return;\n",
              "\n",
              "          const docLinkHtml = 'Like what you see? Visit the ' +\n",
              "            '<a target=\"_blank\" href=https://colab.research.google.com/notebooks/data_table.ipynb>data table notebook</a>'\n",
              "            + ' to learn more about interactive tables.';\n",
              "          element.innerHTML = '';\n",
              "          dataTable['output_type'] = 'display_data';\n",
              "          await google.colab.output.renderOutput(dataTable, element);\n",
              "          const docLink = document.createElement('div');\n",
              "          docLink.innerHTML = docLinkHtml;\n",
              "          element.appendChild(docLink);\n",
              "        }\n",
              "      </script>\n",
              "    </div>\n",
              "  </div>\n",
              "  "
            ]
          },
          "metadata": {},
          "execution_count": 3
        }
      ]
    },
    {
      "cell_type": "markdown",
      "source": [
        "#Desafio 2"
      ],
      "metadata": {
        "id": "4_ROjT_w8jl5"
      }
    },
    {
      "cell_type": "code",
      "source": [
        "df_dieta_2 = pd.read_csv(\n",
        "    'https://raw.githubusercontent.com/leoferro/Desafio-Tecnico/main/Planilha%20dieta%20de%20frutas.csv',\n",
        "    sep=';'\n",
        "    )"
      ],
      "metadata": {
        "id": "SsUHNsC58jP5"
      },
      "execution_count": 4,
      "outputs": []
    },
    {
      "cell_type": "code",
      "source": [
        "df_dieta_2.head()"
      ],
      "metadata": {
        "colab": {
          "base_uri": "https://localhost:8080/",
          "height": 206
        },
        "id": "IxQTaiLv8JE8",
        "outputId": "73d2e345-9291-40c1-ac40-6d137c58e3e0"
      },
      "execution_count": 5,
      "outputs": [
        {
          "output_type": "execute_result",
          "data": {
            "text/plain": [
              "          Data_horario    Frutas\n",
              "0  2022-06-01 12:20:00     manga\n",
              "1  2022-06-01 12:40:00    banana\n",
              "2  2022-06-01 13:00:00  melancia\n",
              "3  2022-06-01 13:20:00   abacate\n",
              "4  2022-06-01 13:40:00   abacaxi"
            ],
            "text/html": [
              "\n",
              "  <div id=\"df-d2a31fca-73b4-4b1d-b03f-157b3430294c\">\n",
              "    <div class=\"colab-df-container\">\n",
              "      <div>\n",
              "<style scoped>\n",
              "    .dataframe tbody tr th:only-of-type {\n",
              "        vertical-align: middle;\n",
              "    }\n",
              "\n",
              "    .dataframe tbody tr th {\n",
              "        vertical-align: top;\n",
              "    }\n",
              "\n",
              "    .dataframe thead th {\n",
              "        text-align: right;\n",
              "    }\n",
              "</style>\n",
              "<table border=\"1\" class=\"dataframe\">\n",
              "  <thead>\n",
              "    <tr style=\"text-align: right;\">\n",
              "      <th></th>\n",
              "      <th>Data_horario</th>\n",
              "      <th>Frutas</th>\n",
              "    </tr>\n",
              "  </thead>\n",
              "  <tbody>\n",
              "    <tr>\n",
              "      <th>0</th>\n",
              "      <td>2022-06-01 12:20:00</td>\n",
              "      <td>manga</td>\n",
              "    </tr>\n",
              "    <tr>\n",
              "      <th>1</th>\n",
              "      <td>2022-06-01 12:40:00</td>\n",
              "      <td>banana</td>\n",
              "    </tr>\n",
              "    <tr>\n",
              "      <th>2</th>\n",
              "      <td>2022-06-01 13:00:00</td>\n",
              "      <td>melancia</td>\n",
              "    </tr>\n",
              "    <tr>\n",
              "      <th>3</th>\n",
              "      <td>2022-06-01 13:20:00</td>\n",
              "      <td>abacate</td>\n",
              "    </tr>\n",
              "    <tr>\n",
              "      <th>4</th>\n",
              "      <td>2022-06-01 13:40:00</td>\n",
              "      <td>abacaxi</td>\n",
              "    </tr>\n",
              "  </tbody>\n",
              "</table>\n",
              "</div>\n",
              "      <button class=\"colab-df-convert\" onclick=\"convertToInteractive('df-d2a31fca-73b4-4b1d-b03f-157b3430294c')\"\n",
              "              title=\"Convert this dataframe to an interactive table.\"\n",
              "              style=\"display:none;\">\n",
              "        \n",
              "  <svg xmlns=\"http://www.w3.org/2000/svg\" height=\"24px\"viewBox=\"0 0 24 24\"\n",
              "       width=\"24px\">\n",
              "    <path d=\"M0 0h24v24H0V0z\" fill=\"none\"/>\n",
              "    <path d=\"M18.56 5.44l.94 2.06.94-2.06 2.06-.94-2.06-.94-.94-2.06-.94 2.06-2.06.94zm-11 1L8.5 8.5l.94-2.06 2.06-.94-2.06-.94L8.5 2.5l-.94 2.06-2.06.94zm10 10l.94 2.06.94-2.06 2.06-.94-2.06-.94-.94-2.06-.94 2.06-2.06.94z\"/><path d=\"M17.41 7.96l-1.37-1.37c-.4-.4-.92-.59-1.43-.59-.52 0-1.04.2-1.43.59L10.3 9.45l-7.72 7.72c-.78.78-.78 2.05 0 2.83L4 21.41c.39.39.9.59 1.41.59.51 0 1.02-.2 1.41-.59l7.78-7.78 2.81-2.81c.8-.78.8-2.07 0-2.86zM5.41 20L4 18.59l7.72-7.72 1.47 1.35L5.41 20z\"/>\n",
              "  </svg>\n",
              "      </button>\n",
              "      \n",
              "  <style>\n",
              "    .colab-df-container {\n",
              "      display:flex;\n",
              "      flex-wrap:wrap;\n",
              "      gap: 12px;\n",
              "    }\n",
              "\n",
              "    .colab-df-convert {\n",
              "      background-color: #E8F0FE;\n",
              "      border: none;\n",
              "      border-radius: 50%;\n",
              "      cursor: pointer;\n",
              "      display: none;\n",
              "      fill: #1967D2;\n",
              "      height: 32px;\n",
              "      padding: 0 0 0 0;\n",
              "      width: 32px;\n",
              "    }\n",
              "\n",
              "    .colab-df-convert:hover {\n",
              "      background-color: #E2EBFA;\n",
              "      box-shadow: 0px 1px 2px rgba(60, 64, 67, 0.3), 0px 1px 3px 1px rgba(60, 64, 67, 0.15);\n",
              "      fill: #174EA6;\n",
              "    }\n",
              "\n",
              "    [theme=dark] .colab-df-convert {\n",
              "      background-color: #3B4455;\n",
              "      fill: #D2E3FC;\n",
              "    }\n",
              "\n",
              "    [theme=dark] .colab-df-convert:hover {\n",
              "      background-color: #434B5C;\n",
              "      box-shadow: 0px 1px 3px 1px rgba(0, 0, 0, 0.15);\n",
              "      filter: drop-shadow(0px 1px 2px rgba(0, 0, 0, 0.3));\n",
              "      fill: #FFFFFF;\n",
              "    }\n",
              "  </style>\n",
              "\n",
              "      <script>\n",
              "        const buttonEl =\n",
              "          document.querySelector('#df-d2a31fca-73b4-4b1d-b03f-157b3430294c button.colab-df-convert');\n",
              "        buttonEl.style.display =\n",
              "          google.colab.kernel.accessAllowed ? 'block' : 'none';\n",
              "\n",
              "        async function convertToInteractive(key) {\n",
              "          const element = document.querySelector('#df-d2a31fca-73b4-4b1d-b03f-157b3430294c');\n",
              "          const dataTable =\n",
              "            await google.colab.kernel.invokeFunction('convertToInteractive',\n",
              "                                                     [key], {});\n",
              "          if (!dataTable) return;\n",
              "\n",
              "          const docLinkHtml = 'Like what you see? Visit the ' +\n",
              "            '<a target=\"_blank\" href=https://colab.research.google.com/notebooks/data_table.ipynb>data table notebook</a>'\n",
              "            + ' to learn more about interactive tables.';\n",
              "          element.innerHTML = '';\n",
              "          dataTable['output_type'] = 'display_data';\n",
              "          await google.colab.output.renderOutput(dataTable, element);\n",
              "          const docLink = document.createElement('div');\n",
              "          docLink.innerHTML = docLinkHtml;\n",
              "          element.appendChild(docLink);\n",
              "        }\n",
              "      </script>\n",
              "    </div>\n",
              "  </div>\n",
              "  "
            ]
          },
          "metadata": {},
          "execution_count": 5
        }
      ]
    },
    {
      "cell_type": "code",
      "source": [
        "def getFruta(dia : int, mes : int , ano : int, hora :int, min : int) -> str:\n",
        "  dieta = df_dieta_2.copy()\n",
        "  dieta.Data_horario = dieta.Data_horario.astype('datetime64[ns]')\n",
        "\n",
        "  #Validação se entradas são numeros\n",
        "  try:\n",
        "    dia=int(dia)\n",
        "    mes=int(mes)\n",
        "    ano=int(ano)\n",
        "    hora=int(hora)\n",
        "    min=int(min)\n",
        "  except:\n",
        "    return 'Não foi possível converter as entradas em números'\n",
        "\n",
        "  #Validação dia\n",
        "  mes30 = [4,6,9,11]\n",
        "  if dia<32 and dia>0:\n",
        "    if (mes in mes30 and dia>30) or (mes == 2 and (dia>29 or (dia==29 and ano%4!=0))):\n",
        "      return 'O dia {} não existe no mes {} do ano {}'.format(dia,mes,ano)\n",
        "  else:\n",
        "    return 'O dia deve ser entre 1 e 31'\n",
        "\n",
        "  #Validação mes\n",
        "  if mes>12 or mes<1:\n",
        "    return 'O mes deve ser entre 1 e 12'\n",
        "\n",
        "  #validação hora e minuto:\n",
        "  if hora>23 or hora<0:\n",
        "    return 'A hora deve ser entre 0 e 23'\n",
        "  if min>59 or min<0:\n",
        "    return 'o minuto deve ser entre 0 e 59'\n",
        "\n",
        "  #Criação de variáveis de data\n",
        "  data_dt = pd.to_datetime(\"{}/{:02d}/{:02d} {:02d}:{:02d}\".format(ano,mes,dia,hora,min))\n",
        "\n",
        "  data_max = dieta.Data_horario.max()\n",
        "  data_min = dieta.Data_horario.min()\n",
        "\n",
        "  #Validar dentro da dieta:\n",
        "  if data_dt > data_max or data_dt < data_min:\n",
        "    return 'Não há uma dieta de frutas para o horario e data informados'\n",
        "\n",
        "  #Validação se precisa comer algo no horário solicitado\n",
        "  encontrar = dieta[dieta.Data_horario==data_dt]\n",
        "  if not encontrar.shape[0]:\n",
        "    for indice in range(dieta.shape[0]):\n",
        "      if dieta.loc[indice].Data_horario>data_dt:\n",
        "        return \"Você não tem que comer nenhuma fruta. Próxima fruta será uma {} em {}\".format(\n",
        "            dieta.loc[indice][1], \n",
        "            dieta.loc[indice][0].strftime('%d/%m/%Y %H:%M')\n",
        "            )\n",
        "\n",
        "  return \"Você deve comer um(a) {}\".format(encontrar.iloc[0][1])"
      ],
      "metadata": {
        "id": "XqfEqxHq9DJC"
      },
      "execution_count": 6,
      "outputs": []
    },
    {
      "cell_type": "code",
      "source": [
        "getFruta('01','06','2022','12','20') "
      ],
      "metadata": {
        "colab": {
          "base_uri": "https://localhost:8080/",
          "height": 35
        },
        "id": "DaKcz1Pc-MKN",
        "outputId": "e3fccfa9-f0e7-4b1d-dfe3-0542f10341a4"
      },
      "execution_count": 7,
      "outputs": [
        {
          "output_type": "execute_result",
          "data": {
            "text/plain": [
              "'Você deve comer um(a) manga'"
            ],
            "application/vnd.google.colaboratory.intrinsic+json": {
              "type": "string"
            }
          },
          "metadata": {},
          "execution_count": 7
        }
      ]
    },
    {
      "cell_type": "code",
      "source": [
        "getFruta('01','06','2022','12','30') "
      ],
      "metadata": {
        "colab": {
          "base_uri": "https://localhost:8080/",
          "height": 35
        },
        "id": "m3mrXNtYPBgP",
        "outputId": "d172c9e1-727d-4493-b053-4c928c58ea4d"
      },
      "execution_count": 8,
      "outputs": [
        {
          "output_type": "execute_result",
          "data": {
            "text/plain": [
              "'Você não tem que comer nenhuma fruta. Próxima fruta será uma banana em 01/06/2022 12:40'"
            ],
            "application/vnd.google.colaboratory.intrinsic+json": {
              "type": "string"
            }
          },
          "metadata": {},
          "execution_count": 8
        }
      ]
    },
    {
      "cell_type": "code",
      "source": [
        "getFruta('25','05','2022','12','30')"
      ],
      "metadata": {
        "colab": {
          "base_uri": "https://localhost:8080/",
          "height": 35
        },
        "id": "XbEpOmVLSkod",
        "outputId": "538d9003-b5c5-4af1-f6b6-403daf6d23ea"
      },
      "execution_count": 9,
      "outputs": [
        {
          "output_type": "execute_result",
          "data": {
            "text/plain": [
              "'Não há uma dieta de frutas para o horario e data informados'"
            ],
            "application/vnd.google.colaboratory.intrinsic+json": {
              "type": "string"
            }
          },
          "metadata": {},
          "execution_count": 9
        }
      ]
    },
    {
      "cell_type": "code",
      "source": [
        "getFruta('35','06','2022','12','30') "
      ],
      "metadata": {
        "colab": {
          "base_uri": "https://localhost:8080/",
          "height": 35
        },
        "id": "QnTkVtofSwBI",
        "outputId": "1a12b4bb-6fa5-4440-f129-430261a0306c"
      },
      "execution_count": 10,
      "outputs": [
        {
          "output_type": "execute_result",
          "data": {
            "text/plain": [
              "'O dia deve ser entre 1 e 31'"
            ],
            "application/vnd.google.colaboratory.intrinsic+json": {
              "type": "string"
            }
          },
          "metadata": {},
          "execution_count": 10
        }
      ]
    }
  ]
}